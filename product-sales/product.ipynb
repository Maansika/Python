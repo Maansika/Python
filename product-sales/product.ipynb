{
 "cells": [
  {
   "cell_type": "code",
   "execution_count": null,
   "id": "9fbcfdd7-8b5d-4b9e-b280-1394c25f2ef0",
   "metadata": {},
   "outputs": [],
   "source": [
    "import pandas as pd\n",
    "import plotly.express as px\n",
    "from io import StringIO"
   ]
  },
  {
   "cell_type": "code",
   "execution_count": null,
   "id": "b1c547b7-a919-490f-8283-560e3f1b4fb8",
   "metadata": {},
   "outputs": [],
   "source": [
    "df = pd.read_csv('prdct.csv', sep = \"\\t\")\n",
    "df"
   ]
  },
  {
   "cell_type": "code",
   "execution_count": null,
   "id": "ef8b47ad-b691-4ac8-9d05-0d8634aaf1c3",
   "metadata": {},
   "outputs": [],
   "source": [
    "df['Date']= pd.date_range(start='2025-01-01', periods= len(df), freq='D')\n",
    "col_to_move= 'Date'\n",
    "if col_to_move in df.columns:\n",
    "    df = df[[col_to_move] + [col for col in df.columns if col != col_to_move]]\n",
    "df"
   ]
  },
  {
   "cell_type": "code",
   "execution_count": null,
   "id": "a06bc8f7-9bd0-4200-bc2e-4698ad24b417",
   "metadata": {},
   "outputs": [],
   "source": [
    "rows=df.shape[0]\n",
    "columns=df.shape[1]\n",
    "print('rows:', rows)\n",
    "print('columns:', columns)"
   ]
  },
  {
   "cell_type": "code",
   "execution_count": null,
   "id": "36ad925b-f5a2-457f-92a9-7a7bd3bcacc8",
   "metadata": {},
   "outputs": [],
   "source": [
    "df['Sales']=df['Selling_Price']*df['Units_Sold']\n",
    "df['Sales']"
   ]
  },
  {
   "cell_type": "code",
   "execution_count": null,
   "id": "eb90a823-f5d3-4b03-896a-ce514adeac17",
   "metadata": {},
   "outputs": [],
   "source": [
    "high_profit = df.groupby(\"Category\")[\"Profit\"].sum().idxmax()\n",
    "print('category with high profit is:')\n",
    "high_profit"
   ]
  },
  {
   "cell_type": "code",
   "execution_count": null,
   "id": "bf3064cc-6b66-45cc-aec0-3a4ec032ab4e",
   "metadata": {},
   "outputs": [],
   "source": [
    "high_selling_prdct = df.groupby('Product_Name')['Sales'].sum().idxmax()\n",
    "print('high selling product is:',high_selling_prdct)"
   ]
  },
  {
   "cell_type": "code",
   "execution_count": null,
   "id": "7b8a4d2c-886b-4066-8183-2f5de147ac58",
   "metadata": {},
   "outputs": [],
   "source": [
    "total_rev = df['Revenue'].sum()\n",
    "print('total Revenue:', total_rev)"
   ]
  },
  {
   "cell_type": "code",
   "execution_count": null,
   "id": "d4c3feab-05d7-4784-9dde-f6faabe0e8d8",
   "metadata": {},
   "outputs": [],
   "source": [
    "avg_SP = df[\"Selling_Price\"].mean()\n",
    "print(\"average selling price:\",avg_SP)"
   ]
  },
  {
   "cell_type": "code",
   "execution_count": null,
   "id": "02441746-05f1-4db1-96eb-2204cae6d4e8",
   "metadata": {},
   "outputs": [],
   "source": [
    "avg_CP = df[\"Cost_Price\"].mean()\n",
    "print(\"average cost price:\",avg_CP)"
   ]
  },
  {
   "cell_type": "code",
   "execution_count": null,
   "id": "7d3ca1a5-0afa-4105-ba4e-c0d12da1bd05",
   "metadata": {},
   "outputs": [],
   "source": [
    "toal_profit_by_category = df.groupby('Category')['Profit'].sum()\n",
    "toal_profit_by_category"
   ]
  },
  {
   "cell_type": "code",
   "execution_count": null,
   "id": "45f25a4a-a3fb-4dbf-ab7b-581f6a2adb31",
   "metadata": {},
   "outputs": [],
   "source": [
    "prdct_hgh_stk = df[df['Stock_Available']>20]\n",
    "count_hgh_stk = prdct_hgh_stk.shape[0]\n",
    "print('Stock greater than 20:',count_hgh_stk)"
   ]
  },
  {
   "cell_type": "code",
   "execution_count": null,
   "id": "85911f45-0d81-4d64-869e-10a2a1462956",
   "metadata": {},
   "outputs": [],
   "source": [
    "prdct_less_stk = df[df['Stock_Available']<20]\n",
    "count_less_stk = prdct_less_stk.shape[0]\n",
    "print('Stock less than 20:',count_less_stk)"
   ]
  },
  {
   "cell_type": "code",
   "execution_count": null,
   "id": "fa2013e2-6cf6-4b94-b4f0-63ebf3d85507",
   "metadata": {},
   "outputs": [],
   "source": [
    "avg_SP = df.groupby('Category')[\"Selling_Price\"].mean().idxmax()\n",
    "print(\"highest average selling price as per cateogy :\",avg_SP)"
   ]
  },
  {
   "cell_type": "code",
   "execution_count": null,
   "id": "a1453107-2099-4fa3-9583-b6f6e59726a0",
   "metadata": {},
   "outputs": [],
   "source": [
    "category_total = df.groupby('Category')[[\"Revenue\", \"Profit\"]].sum()\n",
    "df['Total_Cost']=df['Cost_Price']*df['Units_Sold']\n",
    "category_total['Total_Cost'] = df.groupby('Category')['Total_Cost'].sum()\n",
    "print('the total revenue, cost, profi per category is:')\n",
    "category_total"
   ]
  },
  {
   "cell_type": "code",
   "execution_count": null,
   "id": "5a246e19-a84d-40bd-99ba-3e02700f61c2",
   "metadata": {},
   "outputs": [],
   "source": [
    "category_total['Profit_to_Revenue_Ratio']= category_total['Profit']/category_total['Revenue']\n",
    "ratio_category = category_total['Profit_to_Revenue_Ratio'].idxmax()\n",
    "ratio_value = category_total['Profit_to_Revenue_Ratio'].max()\n",
    "print('Category with the best profit to revenue ratio is', ratio_category, 'with a ratio of', ratio_value)"
   ]
  },
  {
   "cell_type": "code",
   "execution_count": null,
   "id": "1484ac77-a2e5-4729-83d2-a1557a3aa1e4",
   "metadata": {},
   "outputs": [],
   "source": [
    "df['Total_Cost']=df['Cost_Price']*df['Units_Sold']\n",
    "df"
   ]
  },
  {
   "cell_type": "code",
   "execution_count": null,
   "id": "b970890c-d750-48e6-94c8-731bb2ff40b3",
   "metadata": {},
   "outputs": [],
   "source": [
    "category_total['Total_Cost_to_Revenue_Ratio'] = category_total['Total_Cost']/category_total['Revenue']*100\n",
    "ratio_category = category_total['Total_Cost_to_Revenue_Ratio'].idxmax()\n",
    "ratio_value = category_total['Total_Cost_to_Revenue_Ratio'].max()\n",
    "print('Category with the ratio between total cost and revenue', ratio_category, 'with a ratio of', ratio_value)"
   ]
  },
  {
   "cell_type": "code",
   "execution_count": null,
   "id": "9f19d10f-52e9-4ecf-b94c-45d219437f80",
   "metadata": {},
   "outputs": [],
   "source": [
    "\n",
    "\n",
    "total_profit = df[\"Profit\"].sum()\n",
    "total_revenue = df[\"Revenue\"].sum()\n",
    "overall_profit_margin = total_profit / total_revenue\n",
    "print(f\"Overall Profit Margin: {overall_profit_margin:.2%}\")\n",
    "\n",
    "df['Profit_margin'] = (df['Profit']/df['Revenue'])*100\n",
    "fig = px.scatter(df, x='Revenue', y='Profit_margin', size='Profit', color='Product_Name',\n",
    "                hover_data=['Units_Sold'], title='Profit margin analysis by product')\n",
    "fig.show()"
   ]
  },
  {
   "cell_type": "code",
   "execution_count": null,
   "id": "f49acbc5-717c-4ee3-9822-13e4a9c6933a",
   "metadata": {},
   "outputs": [],
   "source": [
    "category_performance = df.groupby(\"Category\")[[\"Revenue\", \"Profit\"]].sum()\n",
    "electronics_vs_furniture = category_performance.loc[[\"Electronics\", \"Furniture\"]]\n",
    "print(\"Performance Comparison: Electronics vs. Furniture\")\n",
    "electronics_vs_furniture\n"
   ]
  },
  {
   "cell_type": "code",
   "execution_count": null,
   "id": "d3fd0072-1c8f-4d38-968e-718250e42259",
   "metadata": {},
   "outputs": [],
   "source": [
    "product_performance = df.groupby('Product_Name')[['Revenue', 'Profit']].sum()\n",
    "laptop_vs_gaming_console = product_performance.loc[['Laptop', 'Gaming Console']]\n",
    "print('Product comparison: Laptop vs. Gaming Console')\n",
    "laptop_vs_gaming_console"
   ]
  },
  {
   "cell_type": "code",
   "execution_count": null,
   "id": "ea0b63a1-4315-4b96-89e5-b0b58dbea1b7",
   "metadata": {},
   "outputs": [],
   "source": [
    "total_profit = df[\"Profit\"].sum()\n",
    "df[\"Profit_Contribution_%\"] = (df[\"Profit\"] / total_profit) * 100\n",
    "print(\"Contribution of Each Product to Overall Profit (%):\")\n",
    "print(df[[\"Product_ID\", \"Product_Name\", \"Profit\", \"Profit_Contribution_%\"]])"
   ]
  },
  {
   "cell_type": "code",
   "execution_count": null,
   "id": "a60c1ac4-c70a-4c23-8618-79a695ca5c5c",
   "metadata": {},
   "outputs": [],
   "source": [
    "total_revenue = df['Revenue'].sum()\n",
    "df['Revenue_Contribution'] = (df['Revenue'] / total_revenue)*100\n",
    "print('Contribution of each product to overall revenue (%):')\n",
    "print(df[[\"Product_ID\", \"Product_Name\", \"Revenue\", \"Revenue_Contribution\"]])"
   ]
  },
  {
   "cell_type": "code",
   "execution_count": null,
   "id": "1e94a62f-8dc5-44e3-bfe2-5b9cafdc1cf0",
   "metadata": {},
   "outputs": [],
   "source": [
    "median_revenue = df[\"Revenue\"].median()\n",
    "median_profit = df[\"Profit\"].median()\n",
    "underperforming_products = df[(df[\"Revenue\"] < median_revenue) & (df[\"Profit\"] < median_profit)]\n",
    "print(\"Underperforming Products:\")\n",
    "print(underperforming_products[[\"Product_ID\", \"Product_Name\", \"Revenue\", \"Profit\"]])\n",
    "fig = px.scatter(underperforming_products, x='Revenue', y='Profit', color='Product_Name', title='Underperforming products')\n",
    "fig.show()"
   ]
  },
  {
   "cell_type": "code",
   "execution_count": null,
   "id": "6de00a67-f2de-4286-a6fe-b5457f812234",
   "metadata": {},
   "outputs": [],
   "source": [
    "fig= px.pie(df, names='Category', values='Profit', title='Distribution by category',\n",
    "            color_discrete_sequence=['purple','lightcoral','yellow','blue'])\n",
    "fig.show()"
   ]
  },
  {
   "cell_type": "code",
   "execution_count": null,
   "id": "cd1a321c-fcff-47e8-9363-ccbe32e4b4c2",
   "metadata": {},
   "outputs": [],
   "source": [
    "fig= px.bar(df, x='Revenue', y='Product_Name',orientation='h', color='Product_Name', title='Top Selling Products')\n",
    "fig.show()"
   ]
  },
  {
   "cell_type": "code",
   "execution_count": null,
   "id": "e0dab37f-fabc-494b-add6-998c6a6ea569",
   "metadata": {},
   "outputs": [],
   "source": [
    "fig= px.bar(df, x='Date', y='Revenue', color='Category', title='Top Selling Products')\n",
    "fig.show()"
   ]
  },
  {
   "cell_type": "code",
   "execution_count": null,
   "id": "87dc4e5c-7c9a-4348-bb47-8960c3f342e7",
   "metadata": {},
   "outputs": [],
   "source": []
  }
 ],
 "metadata": {
  "kernelspec": {
   "display_name": "Python 3 (ipykernel)",
   "language": "python",
   "name": "python3"
  },
  "language_info": {
   "codemirror_mode": {
    "name": "ipython",
    "version": 3
   },
   "file_extension": ".py",
   "mimetype": "text/x-python",
   "name": "python",
   "nbconvert_exporter": "python",
   "pygments_lexer": "ipython3",
   "version": "3.13.1"
  }
 },
 "nbformat": 4,
 "nbformat_minor": 5
}
